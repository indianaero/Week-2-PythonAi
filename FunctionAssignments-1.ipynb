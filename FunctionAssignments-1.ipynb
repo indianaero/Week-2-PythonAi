{
 "cells": [
  {
   "cell_type": "code",
   "execution_count": 10,
   "metadata": {},
   "outputs": [
    {
     "name": "stdout",
     "output_type": "stream",
     "text": [
      "Sub-fields in AI are:\n",
      "Machine Learning\n",
      "Neural Networks\n",
      "Vision\n",
      "Robotics\n",
      "Speech Processing\n",
      " Natural Language Processing\n"
     ]
    }
   ],
   "source": [
    "ai = [\"Machine Learning\", \"Neural Networks\", \"Vision\", \"Robotics\", \"Speech Processing\", \" Natural Language Processing\"]\n",
    "def Subfields():\n",
    "    print(\"Sub-fields in AI are:\")\n",
    "    for i in ai:\n",
    "        #subfields = ai\n",
    "        #return subfields\n",
    "        print(i)\n",
    "Subfields()"
   ]
  },
  {
   "cell_type": "code",
   "execution_count": 12,
   "metadata": {},
   "outputs": [
    {
     "name": "stdout",
     "output_type": "stream",
     "text": [
      "Enter a number: 4\n",
      "4 is Even number\n"
     ]
    }
   ],
   "source": [
    "def OddEven():\n",
    "    num=int(input(\"Enter a number: \"))\n",
    "    if num % 2 == 0:\n",
    "        print(num, \"is Even number\")\n",
    "    else:\n",
    "        print(num, \"is Odd number\")  \n",
    "OddEven()"
   ]
  },
  {
   "cell_type": "code",
   "execution_count": 15,
   "metadata": {},
   "outputs": [
    {
     "name": "stdout",
     "output_type": "stream",
     "text": [
      "Your Gender: Male\n",
      "Your Age: 18\n",
      "NOT ELIGIBLE\n"
     ]
    }
   ],
   "source": [
    "def Eligible():\n",
    "    gender=input(\"Your Gender: \")\n",
    "    age=int(input(\"Your Age: \"))\n",
    "    if age<= 18:\n",
    "        print(\"NOT ELIGIBLE\")\n",
    "    else:\n",
    "        print(\"ELIGIBLE\")  \n",
    "Eligible()"
   ]
  },
  {
   "cell_type": "code",
   "execution_count": 32,
   "metadata": {},
   "outputs": [
    {
     "name": "stdout",
     "output_type": "stream",
     "text": [
      "Subject1= 23\n",
      "Subject2= 45\n",
      "Subject3= 34\n",
      "Subject4= 23\n",
      "Subject5= 23\n",
      "Total : 148\n",
      "Percentage : 29.599999999999998\n"
     ]
    }
   ],
   "source": [
    "def percentage():\n",
    "    subject1=int(input(\"Subject1= \"))\n",
    "    subject2=int(input(\"Subject2= \"))\n",
    "    subject3=int(input(\"Subject3= \"))\n",
    "    subject4=int(input(\"Subject4= \"))\n",
    "    subject5=int(input(\"Subject5= \"))\n",
    "    Total = subject1+subject2+subject3+subject4+subject5\n",
    "    print(\"Total :\", Total)\n",
    "    percentage = (Total/500)*100\n",
    "   print(\"Percentage :\", percentage)\n",
    "percentage()"
   ]
  },
  {
   "cell_type": "code",
   "execution_count": 1,
   "metadata": {},
   "outputs": [
    {
     "name": "stdout",
     "output_type": "stream",
     "text": [
      "Height: 3\n",
      "Breadth= 4\n",
      "Area formula: (Height*Breadth)/2\n",
      "Area of Triange:  6.0\n",
      "Height1: 3\n",
      "Height2: 4\n",
      "Breadth= 45\n",
      "Perimeter formula: Height1+Height2+Breadth\n",
      "Perimeter of Triange:  52\n"
     ]
    }
   ],
   "source": [
    "def triangle():\n",
    "    Height=int(input(\"Height: \"))\n",
    "    Breadth=int(input(\"Breadth= \"))\n",
    "    Area_formula= (Height*Breadth)/2\n",
    "    print(\"Area formula: (Height*Breadth)/2\")\n",
    "    Area_of_Triange = print(\"Area of Triange: \", Area_formula)\n",
    "    Height1=int(input(\"Height1: \"))\n",
    "    Height2=int(input(\"Height2: \"))\n",
    "    Breadth1=int(input(\"Breadth= \"))\n",
    "    Perimeter_formula= Height1+Height2+Breadth1\n",
    "    print(\"Perimeter formula: Height1+Height2+Breadth\")\n",
    "    perimeter = print(\"Perimeter of Triange: \", Perimeter_formula)\n",
    "triangle()"
   ]
  },
  {
   "cell_type": "code",
   "execution_count": null,
   "metadata": {},
   "outputs": [],
   "source": []
  }
 ],
 "metadata": {
  "kernelspec": {
   "display_name": "Python 3",
   "language": "python",
   "name": "python3"
  },
  "language_info": {
   "codemirror_mode": {
    "name": "ipython",
    "version": 3
   },
   "file_extension": ".py",
   "mimetype": "text/x-python",
   "name": "python",
   "nbconvert_exporter": "python",
   "pygments_lexer": "ipython3",
   "version": "3.7.0"
  }
 },
 "nbformat": 4,
 "nbformat_minor": 2
}
